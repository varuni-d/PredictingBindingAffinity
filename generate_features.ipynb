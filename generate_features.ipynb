{
 "cells": [
  {
   "cell_type": "code",
   "execution_count": 1,
   "metadata": {},
   "outputs": [],
   "source": [
    "import io, os, sys\n",
    "import pandas as pd\n",
    "import numpy as np\n",
    "import csv\n",
    "import tqdm"
   ]
  },
  {
   "cell_type": "code",
   "execution_count": 2,
   "metadata": {},
   "outputs": [],
   "source": [
    "from rdkit import Chem, DataStructs\n",
    "from rdkit.Chem import AllChem\n",
    "from rdkit.Chem.Fingerprints import FingerprintMols"
   ]
  },
  {
   "cell_type": "code",
   "execution_count": 8,
   "metadata": {},
   "outputs": [],
   "source": [
    "from sklearn.model_selection import train_test_split\n",
    "import sklearn.decomposition\n",
    "from sklearn.decomposition import PCA\n",
    "from sklearn.feature_extraction.text import CountVectorizer"
   ]
  },
  {
   "cell_type": "code",
   "execution_count": 9,
   "metadata": {},
   "outputs": [],
   "source": [
    "#Generate Morgan fingerprint feature matrix for the ligands\n",
    "def generate_morgan_matrix(smiles):\n",
    "    morgan_matrix=np.zeros((1,2048))\n",
    "    length=len(smiles)\n",
    "    dindex=[]\n",
    "    for i in range(length):\n",
    "        try:\n",
    "            compund=Chem.MolFromSmiles(smiles[i])\n",
    "            fp=Chem.AllChem.GetMorganFingerprintAsBitVect(compund, 2, nBits=2048)\n",
    "            fp=fp.ToBitString()\n",
    "            matrix_row=np.array([int(x) for x in list(fp)])\n",
    "            morgan_matrix=np.row_stack((morgan_matrix,matrix_row))\n",
    "#            if i%1000==0:\n",
    "#                percentage=np.round(100*(i/length),1)\n",
    "#                print(f'{percentage}% done')\n",
    "        except:\n",
    "            print(f'problem index:{i}')\n",
    "            dindex.append[i]\n",
    "    morgan_matrix=np.delete(morgan_matrix,0,axis=0)\n",
    "    print('\\n')\n",
    "    print(f'Morgan Matrix dimensions:{morgan_matrix.shape}')\n",
    "    return morgan_matrix, dindex  "
   ]
  },
  {
   "cell_type": "code",
   "execution_count": 10,
   "metadata": {},
   "outputs": [],
   "source": [
    "def ligand_features(morgan_matrix_df,df_ba,test_size=0.2):\n",
    "    print('Generating ligand features...')\n",
    "    LX_train,LX_test,Ly_train,Ly_test=train_test_split(morgan_matrix_df,df_ba,test_size=0.2,random_state=42,shuffle=False)\n",
    "    #Dimensionality reduction\n",
    "    pca=PCA(.90)\n",
    "    pca.fit(LX_train)\n",
    "    print('Ligand features after PCA:',pca.n_components_)\n",
    "    LX_train = pca.transform(LX_train)\n",
    "    LX_test = pca.transform(LX_test)\n",
    "    print('Ligand features complete!')\n",
    "    return LX_train,LX_test,Ly_train,Ly_test"
   ]
  },
  {
   "cell_type": "code",
   "execution_count": null,
   "metadata": {},
   "outputs": [],
   "source": [
    "def protein_features(df_protein, df_ba, test_size = 0.2):\n",
    "    print('Generating protein features...')   \n",
    "    PX_train,PX_test,y_train,y_test = train_test_split(df_protein, df_ba, test_size = 0.2, random_state = 42,shuffle=False)\n",
    "\n",
    "    # Create a Count Vectorizer to gather the unique elements in sequence\n",
    "    vect = CountVectorizer(analyzer = 'char_wb', ngram_range = (4,4))\n",
    "\n",
    "    # Fit and Transform CountVectorizer\n",
    "    vect.fit(PX_train)\n",
    "    PX_train = vect.transform(PX_train)\n",
    "    PX_test = vect.transform(PX_test)\n",
    "    \n",
    "    #Dimensionality reduction\n",
    "    svd = sklearn.decomposition.TruncatedSVD(n_components=50)\n",
    "    PX_train = svd.fit_transform(PX_train)\n",
    "    PX_test = svd.transform(PX_test)\n",
    "\n",
    "    #print('Protein features':vect.get_feature_names()[-20:])\n",
    "    print('Protein features complete!')\n",
    "    return PX_train,PX_test,y_train,y_test"
   ]
  },
  {
   "cell_type": "code",
   "execution_count": null,
   "metadata": {},
   "outputs": [],
   "source": []
  }
 ],
 "metadata": {
  "kernelspec": {
   "display_name": "Python 3",
   "language": "python",
   "name": "python3"
  },
  "language_info": {
   "codemirror_mode": {
    "name": "ipython",
    "version": 3
   },
   "file_extension": ".py",
   "mimetype": "text/x-python",
   "name": "python",
   "nbconvert_exporter": "python",
   "pygments_lexer": "ipython3",
   "version": "3.7.7"
  }
 },
 "nbformat": 4,
 "nbformat_minor": 4
}
