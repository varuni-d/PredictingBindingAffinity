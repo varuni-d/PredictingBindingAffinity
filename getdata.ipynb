{
 "cells": [
  {
   "cell_type": "code",
   "execution_count": 1,
   "metadata": {},
   "outputs": [],
   "source": [
    "import pandas as pd\n",
    "import numpy as np\n",
    "import wget\n",
    "from zipfile import ZipFile \n",
    "import json\n",
    "import os \n",
    "import warnings\n",
    "warnings.filterwarnings(\"ignore\")"
   ]
  },
  {
   "cell_type": "code",
   "execution_count": 2,
   "metadata": {},
   "outputs": [],
   "source": [
    "#Download and save BindingDB dataset\n",
    "def download_BindingDB(path = './BindingDB'):\n",
    "    print('Downloading BindingDB...')\n",
    "\n",
    "    if not os.path.exists(path):\n",
    "        os.makedirs(path)\n",
    "\n",
    "    url = 'https://www.bindingdb.org/bind/downloads/BindingDB_All_2020m2.tsv.zip'\n",
    "    item_path = wget.download(url, path)\n",
    "    with ZipFile(item_path, 'r') as zip: \n",
    "        zip.extractall(path = path) \n",
    "        print('Download complete:', path) \n",
    "    path = path + '/BindingDB_All.tsv'\n",
    "    return path "
   ]
  },
  {
   "cell_type": "code",
   "execution_count": 3,
   "metadata": {},
   "outputs": [],
   "source": [
    "#Compute log affinity\n",
    "def get_log_affinity(y):\n",
    "\n",
    "    #y = -np.log10(y*1e-9 + 1e-10)\n",
    "    power=-9\n",
    "    log_affinity= -(np.log10(y*10**power))\n",
    "    \n",
    "    return log_affinity"
   ]
  },
  {
   "cell_type": "code",
   "execution_count": 4,
   "metadata": {},
   "outputs": [],
   "source": [
    "\n",
    "def process_BindingDB(path = None, y = 'Kd'):\n",
    "\n",
    "    if not os.path.exists(path):\n",
    "        os.makedirs(path)\n",
    "    print('Loading Dataset...')\n",
    "    df = pd.read_csv(path, sep = '\\t', error_bad_lines=False)\n",
    "    \n",
    "    print('Preprocessing data...')\n",
    "    \n",
    "    df = df[df['Number of Protein Chains in Target (>1 implies a multichain complex)'] == 1.0]\n",
    "    df = df[df['Ligand SMILES'].notnull()]\n",
    "\n",
    "    if y == 'Kd':\n",
    "        label = 'Kd (nM)'\n",
    "    elif y == 'IC50':\n",
    "        label = 'IC50 (nM)'\n",
    "    elif y == 'Ki':\n",
    "        label = 'Ki (nM)'\n",
    "    elif y == 'EC50':\n",
    "        label = 'EC50 (nM)'\n",
    "    else:\n",
    "        print('select Kd, Ki, IC50 or EC50')\n",
    "        \n",
    "    #Handle null values\n",
    "    df = df[df[label].notnull()]\n",
    "    \n",
    "    df = df[['BindingDB Target Chain  Sequence','BindingDB Reactant_set_id', 'PDB ID(s) of Target Chain', 'Ligand SMILES',\n",
    "             'PubChem CID', 'UniProt (SwissProt) Primary ID of Target Chain', label]]\n",
    "    df.rename(columns={label: 'label_name'}, inplace=True)\n",
    "    \n",
    "    #Compute binding affinity \n",
    "    df['label_name'] = df.label_name.str.replace('>', '')\n",
    "    df['label_name'] = df.label_name.str.replace('<', '')   \n",
    "    df['label_name'] = df.label_name.astype(float)\n",
    "    df = df[df['label_name'] <= 10000000.0]\n",
    "#    df['bindingaffinity']=-(np.log10(df['label_name'].values*10**(-9)))\n",
    "    df['bindingaffinity'] = get_log_affinity(df.label_name.values) \n",
    "\n",
    "    df.columns = df.columns.str.strip().str.lower().str.replace(' ', '_').str.replace('(', '').str.replace(')', '')\n",
    "\n",
    "    #Filter columns and handle duplicates\n",
    "    df_filtered = df.filter(['bindingdb_target_chain__sequence','ligand_smiles','bindingaffinity'], axis=1)\n",
    "    df_filtered = df_filtered.drop_duplicates(keep='last')\n",
    "    indexNames = df_filtered[df_filtered['bindingaffinity'] >100 ].index\n",
    "    df_filtered.drop(indexNames , inplace=True)\n",
    "        \n",
    "    print(str(len(df_filtered))+' protein-ligand pairs ready')    \n",
    "    return df_filtered\n",
    "#    return df_filtered.bindingdb_target_chain__sequence.values, df_filtered.ligand_smiles.values, df_filtered.bindingaffinity.values"
   ]
  },
  {
   "cell_type": "code",
   "execution_count": null,
   "metadata": {},
   "outputs": [],
   "source": []
  }
 ],
 "metadata": {
  "kernelspec": {
   "display_name": "Python 3",
   "language": "python",
   "name": "python3"
  },
  "language_info": {
   "codemirror_mode": {
    "name": "ipython",
    "version": 3
   },
   "file_extension": ".py",
   "mimetype": "text/x-python",
   "name": "python",
   "nbconvert_exporter": "python",
   "pygments_lexer": "ipython3",
   "version": "3.7.7"
  }
 },
 "nbformat": 4,
 "nbformat_minor": 4
}
